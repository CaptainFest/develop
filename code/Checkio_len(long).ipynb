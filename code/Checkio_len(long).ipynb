{
 "cells": [
  {
   "cell_type": "code",
   "execution_count": 9,
   "metadata": {},
   "outputs": [],
   "source": [
    "def long_repeat(line):\n",
    "    \"\"\"\n",
    "        length the longest substring that consists of the same char\n",
    "    \"\"\"\n",
    "    # your code her\n",
    "    if line is '':\n",
    "        return 0\n",
    "    cnt, temp = 1, 1\n",
    "    for i in range(1, len(line)):\n",
    "        while line[i] == line[i-1]:\n",
    "            temp += 1\n",
    "            i += 1\n",
    "            if i >= len(line):\n",
    "                break\n",
    "        if temp > cnt:\n",
    "            cnt  = temp\n",
    "        temp = 1\n",
    "    return cnt\n",
    "\n",
    "if __name__ == '__main__':\n",
    "    #These \"asserts\" using only for self-checking and not necessary for auto-testing\n",
    "    assert long_repeat('sdsffffse') == 4, \"First\"\n",
    "    assert long_repeat('ddvvrwwwrggg') == 3, \"Second\"\n",
    "    assert long_repeat('abababaab') == 2, \"Third\"\n",
    "    assert long_repeat('') == 0, \"Empty\"\n"
   ]
  },
  {
   "cell_type": "code",
   "execution_count": null,
   "metadata": {},
   "outputs": [],
   "source": []
  }
 ],
 "metadata": {
  "kernelspec": {
   "display_name": "Python 3",
   "language": "python",
   "name": "python3"
  }
 },
 "nbformat": 4,
 "nbformat_minor": 2
}
