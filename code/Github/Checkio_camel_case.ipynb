{
 "cells": [
  {
   "cell_type": "code",
   "execution_count": null,
   "metadata": {},
   "outputs": [],
   "source": [
    "def from_camel_case(name):\n",
    "    for n in name:\n",
    "        if n == name[0] and n.isupper():\n",
    "            name = name.replace(n, n.lower())\n",
    "        else:\n",
    "            if n.isupper():\n",
    "                name = name.replace(n, '_' + n.lower())\n",
    "    return name\n",
    "\n",
    "if __name__ == '__main__':\n",
    "    print(\"Example:\")\n",
    "    print(from_camel_case(\"Name\"))\n",
    "\n",
    "    #These \"asserts\" using only for self-checking and not necessary for auto-testing\n",
    "    assert from_camel_case(\"MyFunctionName\") == \"my_function_name\"\n",
    "    assert from_camel_case(\"IPhone\") == \"i_phone\"\n",
    "    assert from_camel_case(\"ThisFunctionIsEmpty\") == \"this_function_is_empty\"\n",
    "    assert from_camel_case(\"Name\") == \"name\"\n",
    "    print(\"Coding complete? Click 'Check' to earn cool rewards!\")"
   ]
  }
 ],
 "metadata": {
  "kernelspec": {
   "display_name": "Python 3",
   "language": "python",
   "name": "python3"
  },
  "language_info": {
   "codemirror_mode": {
    "name": "ipython",
    "version": 3
   },
   "file_extension": ".py",
   "mimetype": "text/x-python",
   "name": "python",
   "nbconvert_exporter": "python",
   "pygments_lexer": "ipython3",
   "version": "3.5.5"
  }
 },
 "nbformat": 4,
 "nbformat_minor": 2
}
