{
 "cells": [
  {
   "cell_type": "code",
   "execution_count": 2,
   "metadata": {},
   "outputs": [
    {
     "name": "stdout",
     "output_type": "stream",
     "text": [
      "Example:\n",
      "True\n",
      "Coding complete? Click 'Check' to earn cool rewards!\n"
     ]
    }
   ],
   "source": [
    "from typing import List, Any\n",
    "\n",
    "\n",
    "def all_the_same(elements: List[Any]) -> bool:\n",
    "    if len(elements) > 1:\n",
    "        for i in set(elements):\n",
    "            if elements.count(i) == 1:\n",
    "                return False\n",
    "    return True\n",
    "\n",
    "\n",
    "if __name__ == '__main__':\n",
    "    print(\"Example:\")\n",
    "    print(all_the_same([1, 1, 1]))\n",
    "    \n",
    "    # These \"asserts\" are used for self-checking and not for an auto-testing\n",
    "    assert all_the_same([1, 1, 1]) == True\n",
    "    assert all_the_same([1, 2, 1]) == False\n",
    "    assert all_the_same(['a', 'a', 'a']) == True\n",
    "    assert all_the_same([]) == True\n",
    "    assert all_the_same([1]) == True\n",
    "    print(\"Coding complete? Click 'Check' to earn cool rewards!\")"
   ]
  },
  {
   "cell_type": "code",
   "execution_count": null,
   "metadata": {},
   "outputs": [],
   "source": []
  }
 ],
 "metadata": {
  "kernelspec": {
   "display_name": "Python 3",
   "language": "python",
   "name": "python3"
  },
  "language_info": {
   "codemirror_mode": {
    "name": "ipython",
    "version": 3
   },
   "file_extension": ".py",
   "mimetype": "text/x-python",
   "name": "python",
   "nbconvert_exporter": "python",
   "pygments_lexer": "ipython3",
   "version": "3.5.5"
  }
 },
 "nbformat": 4,
 "nbformat_minor": 2
}
