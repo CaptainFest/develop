{
 "cells": [
  {
   "cell_type": "code",
   "execution_count": 21,
   "metadata": {},
   "outputs": [
    {
     "name": "stdout",
     "output_type": "stream",
     "text": [
      "Example:\n",
      "1 January 2000 year 0 hours 0 minutes\n",
      "Coding complete? Click 'Check' to earn cool rewards!\n"
     ]
    }
   ],
   "source": [
    "from datetime import datetime\n",
    "\n",
    "def month_name(number): \n",
    "    if number == 1: \n",
    "        return \"January\" \n",
    "    elif number == 2: \n",
    "        return \"February\" \n",
    "    elif number == 3: \n",
    "        return \"March\" \n",
    "    elif number == 4: \n",
    "        return \"April\" \n",
    "    elif number == 5: \n",
    "        return \"May\" \n",
    "    elif number == 6: \n",
    "        return \"June\" \n",
    "    elif number == 7: \n",
    "        return \"July\" \n",
    "    elif number == 8: \n",
    "        return \"August\" \n",
    "    elif number == 9: \n",
    "        return \"September\" \n",
    "    elif number == 10: \n",
    "        return \"October\" \n",
    "    elif number == 11: \n",
    "        return \"November\" \n",
    "    elif number == 12: \n",
    "        return \"December\" \n",
    "\n",
    "def date_time(time: str) -> str:\n",
    "    my_date = datetime.strptime(time, \"%d.%m.%Y %H:%M\")\n",
    "    time_r = ''\n",
    "    time_r += str(int(my_date.strftime('%d'))) + \" \"\n",
    "    time_r += month_name(my_date.month) + \" \"\n",
    "    time_r += my_date.strftime('%Y year ')\n",
    "    time_r += str(my_date.hour)\n",
    "    if my_date.hour == 1:\n",
    "        time_r += ' hour '\n",
    "    else:\n",
    "        time_r += ' hours '\n",
    "    time_r += str(my_date.minute)\n",
    "    if my_date.minute == 1:\n",
    "        time_r += ' minute'\n",
    "    else:\n",
    "        time_r += ' minutes'\n",
    "    return time_r\n",
    "\n",
    "if __name__ == '__main__':\n",
    "    print(\"Example:\")\n",
    "    print(date_time('01.01.2000 00:00'))\n",
    "\n",
    "    #These \"asserts\" using only for self-checking and not necessary for auto-testing\n",
    "    assert date_time(\"01.01.2000 00:00\") == \"1 January 2000 year 0 hours 0 minutes\", \"Millenium\"\n",
    "    assert date_time(\"09.05.1945 06:30\") == \"9 May 1945 year 6 hours 30 minutes\", \"Victory\"\n",
    "    assert date_time(\"20.11.1990 03:55\") == \"20 November 1990 year 3 hours 55 minutes\", \"Somebody was born\"\n",
    "    print(\"Coding complete? Click 'Check' to earn cool rewards!\")\n"
   ]
  },
  {
   "cell_type": "code",
   "execution_count": null,
   "metadata": {},
   "outputs": [],
   "source": []
  }
 ],
 "metadata": {
  "kernelspec": {
   "display_name": "Python 3",
   "language": "python",
   "name": "python3"
  },
  "language_info": {
   "codemirror_mode": {
    "name": "ipython",
    "version": 3
   },
   "file_extension": ".py",
   "mimetype": "text/x-python",
   "name": "python",
   "nbconvert_exporter": "python",
   "pygments_lexer": "ipython3",
   "version": "3.5.5"
  }
 },
 "nbformat": 4,
 "nbformat_minor": 2
}
