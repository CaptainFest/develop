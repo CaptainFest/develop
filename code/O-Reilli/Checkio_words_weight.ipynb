{
 "cells": [
  {
   "cell_type": "code",
   "execution_count": 2,
   "metadata": {},
   "outputs": [
    {
     "name": "stdout",
     "output_type": "stream",
     "text": [
      "Example:\n",
      "quiz\n",
      "Coding complete? Click 'Check' to earn cool rewards!\n"
     ]
    }
   ],
   "source": [
    "VALUES = {'e': 1,  'a': 1, 'i': 1, 'o': 1, 'n': 1, 'r': 1,\n",
    "          't': 1,  'l': 1, 's': 1, 'u': 1, 'd': 2, 'g': 2,\n",
    "          'b': 3,  'c': 3, 'm': 3, 'p': 3, 'f': 4, 'h': 4,\n",
    "          'v': 4,  'w': 4, 'y': 4, 'k': 5, 'j': 8, 'x': 8,\n",
    "          'q': 10, 'z': 10}\n",
    "\n",
    "def worth_of_words(words):\n",
    "    max_word = ''\n",
    "    max_count, temp = 0, 0\n",
    "    for w in words:\n",
    "        for b in w:\n",
    "            temp += VALUES[b]\n",
    "        if temp > max_count:\n",
    "            max_count = temp\n",
    "            max_word = w\n",
    "        temp = 0\n",
    "    return max_word\n",
    "\n",
    "if __name__ == '__main__':\n",
    "    print(\"Example:\")\n",
    "    print(worth_of_words(['hi', 'quiz', 'bomb', 'president']))\n",
    "\n",
    "    #These \"asserts\" using only for self-checking and not necessary for auto-testing\n",
    "    assert worth_of_words(['hi', 'quiz', 'bomb', 'president']) == 'quiz'\n",
    "    assert worth_of_words(['zero', 'one', 'two', 'three', 'four', 'five']) == 'zero'\n",
    "    print(\"Coding complete? Click 'Check' to earn cool rewards!\")"
   ]
  },
  {
   "cell_type": "code",
   "execution_count": null,
   "metadata": {},
   "outputs": [],
   "source": []
  }
 ],
 "metadata": {
  "kernelspec": {
   "display_name": "Python 3",
   "language": "python",
   "name": "python3"
  },
  "language_info": {
   "codemirror_mode": {
    "name": "ipython",
    "version": 3
   },
   "file_extension": ".py",
   "mimetype": "text/x-python",
   "name": "python",
   "nbconvert_exporter": "python",
   "pygments_lexer": "ipython3",
   "version": "3.5.5"
  }
 },
 "nbformat": 4,
 "nbformat_minor": 2
}
