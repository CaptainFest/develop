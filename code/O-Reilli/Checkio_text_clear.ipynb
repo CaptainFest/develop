{
 "cells": [
  {
   "cell_type": "code",
   "execution_count": 6,
   "metadata": {},
   "outputs": [
    {
     "name": "stdout",
     "output_type": "stream",
     "text": [
      "Done\n"
     ]
    }
   ],
   "source": [
    "import unicodedata\n",
    "import sys\n",
    "\n",
    "def checkio(in_string):\n",
    "    \"remove accents\"\n",
    "    cmb_chrs = dict.fromkeys(c for c in range(sys.maxunicode) if unicodedata.combining(chr(c)))\n",
    "    b = unicodedata.normalize('NFD', in_string)\n",
    "    b = b.translate(cmb_chrs)\n",
    "    return b\n",
    "\n",
    "    #These \"asserts\" using only for self-checking and not necessary for auto-testing\n",
    "if __name__ == '__main__':\n",
    "    assert checkio(u\"préfèrent\") == u\"preferent\"\n",
    "    assert checkio(u\"loài trăn lớn\") == u\"loai tran lon\"\n",
    "    assert checkio(\"完好無缺\") == \"完好無缺\"\n",
    "    print('Done')\n"
   ]
  },
  {
   "cell_type": "code",
   "execution_count": 10,
   "metadata": {},
   "outputs": [
    {
     "name": "stdout",
     "output_type": "stream",
     "text": [
      "Done\n"
     ]
    }
   ],
   "source": [
    "import unicodedata\n",
    "import re\n",
    "\n",
    "def checkio(in_string):\n",
    "    \"remove accents\"\n",
    "    if not re.search(u'[\\u4e00-\\u9fff]', in_string):\n",
    "        b = unicodedata.normalize('NFD', in_string)\n",
    "        b = b.encode('ascii', 'ignore').decode('utf-8')\n",
    "        return b\n",
    "    return in_string\n",
    "\n",
    "    #These \"asserts\" using only for self-checking and not necessary for auto-testing\n",
    "if __name__ == '__main__':\n",
    "    assert checkio(u\"préfèrent\") == u\"preferent\"\n",
    "    assert checkio(u\"loài trăn lớn\") == u\"loai tran lon\"\n",
    "    assert checkio(\"完好無缺\") == \"完好無缺\"\n",
    "    print('Done')\n"
   ]
  },
  {
   "cell_type": "code",
   "execution_count": null,
   "metadata": {},
   "outputs": [],
   "source": []
  }
 ],
 "metadata": {
  "kernelspec": {
   "display_name": "Python 3",
   "language": "python",
   "name": "python3"
  },
  "language_info": {
   "codemirror_mode": {
    "name": "ipython",
    "version": 3
   },
   "file_extension": ".py",
   "mimetype": "text/x-python",
   "name": "python",
   "nbconvert_exporter": "python",
   "pygments_lexer": "ipython3",
   "version": "3.5.5"
  }
 },
 "nbformat": 4,
 "nbformat_minor": 2
}
