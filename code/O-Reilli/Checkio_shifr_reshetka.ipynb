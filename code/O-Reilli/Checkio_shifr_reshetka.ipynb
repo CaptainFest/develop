{
 "cells": [
  {
   "cell_type": "code",
   "execution_count": 28,
   "metadata": {},
   "outputs": [],
   "source": [
    "def transposition(cipher):\n",
    "    a = []\n",
    "    for i in range(4):\n",
    "        s = ''\n",
    "        for b in reversed(cipher):\n",
    "            s += b[ i]\n",
    "        a.append(s)\n",
    "    return a\n",
    "\n",
    "def recall_password(tabl, cod):\n",
    "    txt = ''\n",
    "    for k in range(4):\n",
    "        for i in range(4):\n",
    "            for j in range(4):\n",
    "                if tabl[ i][j] == \"X\":\n",
    "                    txt = txt + cod[ i][j]\n",
    "        tabl=transposition(tabl)\n",
    "    return txt\n",
    "\n",
    "if __name__ == '__main__':\n",
    "    #These \"asserts\" using only for self-checking and not necessary for auto-testing\n",
    "    assert recall_password(\n",
    "        ('X...',\n",
    "         '..X.',\n",
    "         'X..X',\n",
    "         '....'),\n",
    "        ('itdf',\n",
    "         'gdce',\n",
    "         'aton',\n",
    "         'qrdi')) == 'icantforgetiddqd', 'First example'\n",
    "\n",
    "    assert recall_password(\n",
    "        ('....',\n",
    "         'X..X',\n",
    "         '.X..',\n",
    "         '...X'),\n",
    "        ('xhwc',\n",
    "         'rsqx',\n",
    "         'xqzz',\n",
    "         'fyzr')) == 'rxqrwsfzxqxzhczy', 'Second example'"
   ]
  },
  {
   "cell_type": "code",
   "execution_count": null,
   "metadata": {},
   "outputs": [],
   "source": []
  }
 ],
 "metadata": {
  "kernelspec": {
   "display_name": "Python 3",
   "language": "python",
   "name": "python3"
  },
  "language_info": {
   "codemirror_mode": {
    "name": "ipython",
    "version": 3
   },
   "file_extension": ".py",
   "mimetype": "text/x-python",
   "name": "python",
   "nbconvert_exporter": "python",
   "pygments_lexer": "ipython3",
   "version": "3.5.5"
  }
 },
 "nbformat": 4,
 "nbformat_minor": 2
}
