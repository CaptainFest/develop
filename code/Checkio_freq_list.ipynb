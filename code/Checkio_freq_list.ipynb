{
 "cells": [
  {
   "cell_type": "code",
   "execution_count": 2,
   "metadata": {},
   "outputs": [
    {
     "name": "stdout",
     "output_type": "stream",
     "text": [
      "Example:\n",
      "a\n",
      "Done\n"
     ]
    }
   ],
   "source": [
    "def most_frequent(data: list) -> str:\n",
    "    \"\"\"\n",
    "        determines the most frequently occurring string in the sequence.\n",
    "    \"\"\"\n",
    "    # your code here\n",
    "    mx = 0\n",
    "    word = ''\n",
    "    for s in set(data):\n",
    "        if data.count(s) > mx:\n",
    "            mx = data.count(s)\n",
    "            word = s\n",
    "    return word\n",
    "\n",
    "if __name__ == '__main__':\n",
    "    #These \"asserts\" using only for self-checking and not necessary for auto-testing\n",
    "    print('Example:')\n",
    "    print(most_frequent([\n",
    "        'a', 'b', 'c', \n",
    "        'a', 'b',\n",
    "        'a'\n",
    "    ]))\n",
    "    \n",
    "    assert most_frequent([\n",
    "        'a', 'b', 'c', \n",
    "        'a', 'b',\n",
    "        'a'\n",
    "    ]) == 'a'\n",
    "\n",
    "    assert most_frequent(['a', 'a', 'bi', 'bi', 'bi']) == 'bi'\n",
    "    print('Done')\n"
   ]
  },
  {
   "cell_type": "code",
   "execution_count": null,
   "metadata": {},
   "outputs": [],
   "source": []
  }
 ],
 "metadata": {
  "kernelspec": {
   "display_name": "Python 3",
   "language": "python",
   "name": "python3"
  },
  "language_info": {
   "codemirror_mode": {
    "name": "ipython",
    "version": 3
   },
   "file_extension": ".py",
   "mimetype": "text/x-python",
   "name": "python",
   "nbconvert_exporter": "python",
   "pygments_lexer": "ipython3",
   "version": "3.5.5"
  }
 },
 "nbformat": 4,
 "nbformat_minor": 2
}
