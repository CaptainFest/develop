{
 "cells": [
  {
   "cell_type": "code",
   "execution_count": 14,
   "metadata": {},
   "outputs": [
    {
     "name": "stdout",
     "output_type": "stream",
     "text": [
      "6\n"
     ]
    }
   ],
   "source": [
    "def checkio(data):\n",
    "    if data is None:\n",
    "        return 0\n",
    "    l = len(data)\n",
    "    s = 0\n",
    "    return rec_s(data,l-1)\n",
    "\n",
    "def rec_s(dat, l):\n",
    "    s = 0\n",
    "    if l < 0:\n",
    "        return 0\n",
    "    r = dat[l]\n",
    "    return s + r + rec_s(dat, l-1)\n",
    "\n",
    "if __name__ == '__main__':\n",
    "    assert checkio([1,2,3]) == 6, 'fail'"
   ]
  },
  {
   "cell_type": "code",
   "execution_count": null,
   "metadata": {},
   "outputs": [],
   "source": []
  }
 ],
 "metadata": {
  "kernelspec": {
   "display_name": "Python 3",
   "language": "python",
   "name": "python3"
  },
  "language_info": {
   "codemirror_mode": {
    "name": "ipython",
    "version": 3
   },
   "file_extension": ".py",
   "mimetype": "text/x-python",
   "name": "python",
   "nbconvert_exporter": "python",
   "pygments_lexer": "ipython3",
   "version": "3.5.5"
  }
 },
 "nbformat": 4,
 "nbformat_minor": 2
}
