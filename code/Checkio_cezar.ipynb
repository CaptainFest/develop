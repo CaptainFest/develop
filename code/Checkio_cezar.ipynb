{
 "cells": [
  {
   "cell_type": "code",
   "execution_count": 50,
   "metadata": {},
   "outputs": [
    {
     "name": "stdout",
     "output_type": "stream",
     "text": [
      "Example:\n",
      "d\n",
      "d e\n",
      "d e f\n",
      "y\n",
      "y z\n",
      "y z  \n"
     ]
    },
    {
     "ename": "AssertionError",
     "evalue": "",
     "output_type": "error",
     "traceback": [
      "\u001b[1;31m---------------------------------------------------------------------------\u001b[0m",
      "\u001b[1;31mAssertionError\u001b[0m                            Traceback (most recent call last)",
      "\u001b[1;32m<ipython-input-50-82bde1828aca>\u001b[0m in \u001b[0;36m<module>\u001b[1;34m()\u001b[0m\n\u001b[0;32m     27\u001b[0m     \u001b[1;31m#These \"asserts\" using only for self-checking and not necessary for auto-testing\u001b[0m\u001b[1;33m\u001b[0m\u001b[1;33m\u001b[0m\u001b[0m\n\u001b[0;32m     28\u001b[0m     \u001b[1;32massert\u001b[0m \u001b[0mto_encrypt\u001b[0m\u001b[1;33m(\u001b[0m\u001b[1;34m\"a b c\"\u001b[0m\u001b[1;33m,\u001b[0m \u001b[1;36m3\u001b[0m\u001b[1;33m)\u001b[0m \u001b[1;33m==\u001b[0m \u001b[1;34m\"d e f\"\u001b[0m\u001b[1;33m\u001b[0m\u001b[0m\n\u001b[1;32m---> 29\u001b[1;33m     \u001b[1;32massert\u001b[0m \u001b[0mto_encrypt\u001b[0m\u001b[1;33m(\u001b[0m\u001b[1;34m\"a b c\"\u001b[0m\u001b[1;33m,\u001b[0m \u001b[1;33m-\u001b[0m\u001b[1;36m3\u001b[0m\u001b[1;33m)\u001b[0m \u001b[1;33m==\u001b[0m \u001b[1;34m\"x y z\"\u001b[0m\u001b[1;33m\u001b[0m\u001b[0m\n\u001b[0m\u001b[0;32m     30\u001b[0m     \u001b[1;32massert\u001b[0m \u001b[0mto_encrypt\u001b[0m\u001b[1;33m(\u001b[0m\u001b[1;34m\"simple text\"\u001b[0m\u001b[1;33m,\u001b[0m \u001b[1;36m16\u001b[0m\u001b[1;33m)\u001b[0m \u001b[1;33m==\u001b[0m \u001b[1;34m\"iycfbu junj\"\u001b[0m\u001b[1;33m\u001b[0m\u001b[0m\n\u001b[0;32m     31\u001b[0m     \u001b[1;32massert\u001b[0m \u001b[0mto_encrypt\u001b[0m\u001b[1;33m(\u001b[0m\u001b[1;34m\"important text\"\u001b[0m\u001b[1;33m,\u001b[0m \u001b[1;36m10\u001b[0m\u001b[1;33m)\u001b[0m \u001b[1;33m==\u001b[0m \u001b[1;34m\"swzybdkxd dohd\"\u001b[0m\u001b[1;33m\u001b[0m\u001b[0m\n",
      "\u001b[1;31mAssertionError\u001b[0m: "
     ]
    }
   ],
   "source": [
    "def to_encrypt(text, delta):\n",
    "    alpha = ' abcdefghijklmnopqrstuvwxyz'\n",
    "    res = ''\n",
    "    for c in text:\n",
    "        if c != ' ':\n",
    "            res += alpha[(alpha.index(c) + delta) % len(alpha)]\n",
    "            print(res)\n",
    "        else:\n",
    "            res += ' '\n",
    "    return(res)\n",
    "    \"\"\"for i, val in enumerate(text):\n",
    "        temp = val\n",
    "        if 'a' <= val <= 'z': \n",
    "            if 97 > (ord(val) + delta):\n",
    "                temp = chr(z - a + (ord(val) + delta + 1))\n",
    "            elif (ord(val) + delta) > 122:\n",
    "                temp = chr(a - 1 + ((ord(val) + delta) - z))\n",
    "                print(1)\n",
    "            else:   \n",
    "                text = text.replace(text[i], chr(ord(val) + delta), 1)\n",
    "            b.append(temp)\"\"\"\n",
    "\n",
    "if __name__ == '__main__':\n",
    "    print(\"Example:\")\n",
    "    #print(to_encrypt('abc', 10))\n",
    "\n",
    "    #These \"asserts\" using only for self-checking and not necessary for auto-testing\n",
    "    assert to_encrypt(\"a b c\", 3) == \"d e f\"\n",
    "    assert to_encrypt(\"a b c\", -3) == \"x y z\"\n",
    "    assert to_encrypt(\"simple text\", 16) == \"iycfbu junj\"\n",
    "    assert to_encrypt(\"important text\", 10) == \"swzybdkxd dohd\"\n",
    "    assert to_encrypt(\"state secret\", -13) == \"fgngr frperg\"\n",
    "    print(\"Coding complete? Click 'Check' to earn cool rewards!\")"
   ]
  },
  {
   "cell_type": "code",
   "execution_count": null,
   "metadata": {},
   "outputs": [],
   "source": []
  }
 ],
 "metadata": {
  "kernelspec": {
   "display_name": "Python 3",
   "language": "python",
   "name": "python3"
  },
  "language_info": {
   "codemirror_mode": {
    "name": "ipython",
    "version": 3
   },
   "file_extension": ".py",
   "mimetype": "text/x-python",
   "name": "python",
   "nbconvert_exporter": "python",
   "pygments_lexer": "ipython3",
   "version": "3.5.5"
  }
 },
 "nbformat": 4,
 "nbformat_minor": 2
}
