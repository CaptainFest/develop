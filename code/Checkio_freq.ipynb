{
 "cells": [
  {
   "cell_type": "code",
   "execution_count": 40,
   "metadata": {},
   "outputs": [
    {
     "name": "stdout",
     "output_type": "stream",
     "text": [
      "Example:\n",
      "{'d', 'w', 'e', 'h', 'l', 'r', 'o'}\n",
      "l\n",
      "{'d', 'w', 'e', 'h', 'l', 'r', 'o'}\n",
      "{'d', 'w', 'h', 'y', 'o', 'u'}\n",
      "{'d', 'w', 's', 'e', 'h', 'a', 'l', 'r', 'j', 'n', 'z', 'm', 'f', 'k', 'c'}\n",
      "l\n",
      "l\n",
      "k\n",
      "k\n"
     ]
    },
    {
     "ename": "AssertionError",
     "evalue": "444",
     "output_type": "error",
     "traceback": [
      "\u001b[1;31m---------------------------------------------------------------------------\u001b[0m",
      "\u001b[1;31mAssertionError\u001b[0m                            Traceback (most recent call last)",
      "\u001b[1;32m<ipython-input-40-27938f7c4b6f>\u001b[0m in \u001b[0;36m<module>\u001b[1;34m()\u001b[0m\n\u001b[0;32m     22\u001b[0m     \u001b[1;32massert\u001b[0m \u001b[0mcheckio\u001b[0m\u001b[1;33m(\u001b[0m\u001b[1;34m\"Hello World!\"\u001b[0m\u001b[1;33m)\u001b[0m \u001b[1;33m==\u001b[0m \u001b[1;34m\"l\"\u001b[0m\u001b[1;33m,\u001b[0m \u001b[1;34m\"Hello test\"\u001b[0m\u001b[1;33m\u001b[0m\u001b[0m\n\u001b[0;32m     23\u001b[0m     \u001b[1;32massert\u001b[0m \u001b[0mcheckio\u001b[0m\u001b[1;33m(\u001b[0m\u001b[1;34m\"How do you do?\"\u001b[0m\u001b[1;33m)\u001b[0m \u001b[1;33m==\u001b[0m \u001b[1;34m\"o\"\u001b[0m\u001b[1;33m,\u001b[0m \u001b[1;34m\"O is most wanted\"\u001b[0m\u001b[1;33m\u001b[0m\u001b[0m\n\u001b[1;32m---> 24\u001b[1;33m     \u001b[1;32massert\u001b[0m \u001b[0mcheckio\u001b[0m\u001b[1;33m(\u001b[0m\u001b[1;34m\"fn;lsfndasl;f naslkdnlkasdnfslahwemwjkrjkl;zcmk;lzcdkcslksdkseewme,\"\u001b[0m\u001b[1;33m)\u001b[0m \u001b[1;33m==\u001b[0m \u001b[1;34m\"l\"\u001b[0m\u001b[1;33m,\u001b[0m \u001b[1;34m\"444\"\u001b[0m\u001b[1;33m\u001b[0m\u001b[0m\n\u001b[0m\u001b[0;32m     25\u001b[0m     \u001b[1;32massert\u001b[0m \u001b[0mcheckio\u001b[0m\u001b[1;33m(\u001b[0m\u001b[1;34m\"One\"\u001b[0m\u001b[1;33m)\u001b[0m \u001b[1;33m==\u001b[0m \u001b[1;34m\"e\"\u001b[0m\u001b[1;33m,\u001b[0m \u001b[1;34m\"All letter only once.\"\u001b[0m\u001b[1;33m\u001b[0m\u001b[0m\n\u001b[0;32m     26\u001b[0m     \u001b[1;32massert\u001b[0m \u001b[0mcheckio\u001b[0m\u001b[1;33m(\u001b[0m\u001b[1;34m\"Oops!\"\u001b[0m\u001b[1;33m)\u001b[0m \u001b[1;33m==\u001b[0m \u001b[1;34m\"o\"\u001b[0m\u001b[1;33m,\u001b[0m \u001b[1;34m\"Don't forget about lower case.\"\u001b[0m\u001b[1;33m\u001b[0m\u001b[0m\n",
      "\u001b[1;31mAssertionError\u001b[0m: 444"
     ]
    }
   ],
   "source": [
    "import re\n",
    "\n",
    "def checkio(text: str) -> str:\n",
    "    text, s, max_freq, letter = text.lower(), set(text.lower()).intersection(set('abcdefghijklmnopqrstuvwxyz')), 0, '{'\n",
    "    print(s)\n",
    "    for i in s:\n",
    "        if (text.count(i) > max_freq):\n",
    "            max_freq = text.count(i)\n",
    "            letter = i\n",
    "        elif (text.count(i) == max_freq):\n",
    "            if i < letter:\n",
    "                print(i)\n",
    "                max_freq = text.count(i)\n",
    "                letter = i\n",
    "                print(letter)\n",
    "    return letter\n",
    "\n",
    "if __name__ == '__main__':\n",
    "    print(\"Example:\")\n",
    "    print(checkio(\"Hello World!\"))\n",
    "    #These \"asserts\" using only for self-checking and not necessary for auto-testing\n",
    "    assert checkio(\"Hello World!\") == \"l\", \"Hello test\"\n",
    "    assert checkio(\"How do you do?\") == \"o\", \"O is most wanted\"\n",
    "    assert checkio(\"One\") == \"e\", \"All letter only once.\"\n",
    "    assert checkio(\"Oops!\") == \"o\", \"Don't forget about lower case.\"\n",
    "    assert checkio(\"AAaooo!!!!\") == \"a\", \"Only letters.\"\n",
    "    assert checkio(\"abe\") == \"a\", \"The First.\"\n",
    "    print(\"Start the long test\")\n",
    "    assert checkio(\"a\" * 9000 + \"b\" * 1000) == \"a\", \"Long.\"\n",
    "    print(\"The local tests are done.\")"
   ]
  },
  {
   "cell_type": "code",
   "execution_count": null,
   "metadata": {},
   "outputs": [],
   "source": []
  },
  {
   "cell_type": "code",
   "execution_count": null,
   "metadata": {},
   "outputs": [],
   "source": []
  }
 ],
 "metadata": {
  "kernelspec": {
   "display_name": "Python 3",
   "language": "python",
   "name": "python3"
  }
 },
 "nbformat": 4,
 "nbformat_minor": 2
}
