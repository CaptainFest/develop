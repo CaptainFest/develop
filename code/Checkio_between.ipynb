{
 "cells": [
  {
   "cell_type": "code",
   "execution_count": 13,
   "metadata": {},
   "outputs": [
    {
     "name": "stdout",
     "output_type": "stream",
     "text": [
      "Example:\n",
      "apple\n",
      "My new site\n",
      "Wow, you are doing pretty good. Time to check it!\n"
     ]
    }
   ],
   "source": [
    "def between_markers(text: str, begin: str, end: str) -> str:\n",
    "    \"\"\"\n",
    "        returns substring between two given markers\n",
    "    \"\"\"\n",
    "    # your code here\n",
    "    start, point, result = 0, len(text), ''\n",
    "    if begin in text:\n",
    "        start = text.find(begin) + len(begin)\n",
    "    if end in text:\n",
    "        point = text.find(end)\n",
    "    for i in range(start, point):\n",
    "        result += text[i]   \n",
    "    return result\n",
    "\n",
    "\n",
    "if __name__ == '__main__':\n",
    "    print('Example:')\n",
    "    print(between_markers('What is >apple<', '>', '<'))\n",
    "    print(between_markers(\"<head><title>My new site</title></head>\",\n",
    "                           \"<title>\", \"</title>\"))\n",
    "\n",
    "    # These \"asserts\" are used for self-checking and not for testing\n",
    "    assert between_markers('What is >apple<', '>', '<') == \"apple\", \"One sym\"\n",
    "    assert between_markers(\"<head><title>My new site</title></head>\",\n",
    "                           \"<title>\", \"</title>\") == \"My new site\", \"HTML\"\n",
    "    assert between_markers('No[/b] hi', '[b]', '[/b]') == 'No', 'No opened'\n",
    "    assert between_markers('No [b]hi', '[b]', '[/b]') == 'hi', 'No close'\n",
    "    assert between_markers('No hi', '[b]', '[/b]') == 'No hi', 'No markers at all'\n",
    "    assert between_markers('No <hi>', '>', '<') == '', 'Wrong direction'\n",
    "    print('Wow, you are doing pretty good. Time to check it!')"
   ]
  },
  {
   "cell_type": "code",
   "execution_count": null,
   "metadata": {},
   "outputs": [],
   "source": []
  }
 ],
 "metadata": {
  "kernelspec": {
   "display_name": "Python 3",
   "language": "python",
   "name": "python3"
  },
  "language_info": {
   "codemirror_mode": {
    "name": "ipython",
    "version": 3
   },
   "file_extension": ".py",
   "mimetype": "text/x-python",
   "name": "python",
   "nbconvert_exporter": "python",
   "pygments_lexer": "ipython3",
   "version": "3.5.5"
  }
 },
 "nbformat": 4,
 "nbformat_minor": 2
}
