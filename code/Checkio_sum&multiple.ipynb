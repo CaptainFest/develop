{
 "cells": [
  {
   "cell_type": "code",
   "execution_count": 4,
   "metadata": {},
   "outputs": [
    {
     "name": "stdout",
     "output_type": "stream",
     "text": [
      "6\n",
      "3\n",
      "1\n",
      "Coding complete? Click 'Check' to review your tests and earn cool rewards!\n"
     ]
    }
   ],
   "source": [
    "def checkio(array):\n",
    "    \"\"\"\n",
    "        sums even-indexes elements and multiply at the last\n",
    "    \"\"\"\n",
    "    if len(array) == 0 or array is None:\n",
    "        return 0\n",
    "    sum = 0\n",
    "    for i in range(0, len(array), 2):\n",
    "        sum += array[i]\n",
    "    print(len(array))\n",
    "    return sum*array[len(array)-1]\n",
    "\n",
    "#These \"asserts\" using only for self-checking and not necessary for auto-testing\n",
    "if __name__ == '__main__':\n",
    "    assert checkio([0, 1, 2, 3, 4, 5]) == 30, \"(0+2+4)*5=30\"\n",
    "    assert checkio([1, 3, 5]) == 30, \"(1+5)*5=30\"\n",
    "    assert checkio([6]) == 36, \"(6)*6=36\"\n",
    "    assert checkio([]) == 0, \"An empty array = 0\"\n",
    "    print(\"Coding complete? Click 'Check' to review your tests and earn cool rewards!\")"
   ]
  },
  {
   "cell_type": "code",
   "execution_count": null,
   "metadata": {},
   "outputs": [],
   "source": []
  }
 ],
 "metadata": {
  "kernelspec": {
   "display_name": "Python 3",
   "language": "python",
   "name": "python3"
  },
  "language_info": {
   "codemirror_mode": {
    "name": "ipython",
    "version": 3
   },
   "file_extension": ".py",
   "mimetype": "text/x-python",
   "name": "python",
   "nbconvert_exporter": "python",
   "pygments_lexer": "ipython3",
   "version": "3.5.5"
  }
 },
 "nbformat": 4,
 "nbformat_minor": 2
}
