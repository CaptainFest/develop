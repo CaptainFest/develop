{
 "cells": [
  {
   "cell_type": "code",
   "execution_count": 11,
   "metadata": {},
   "outputs": [
    {
     "name": "stdout",
     "output_type": "stream",
     "text": [
      "3 1\n",
      "5 -5\n",
      "10.2 -2.2\n",
      "0 0\n",
      "Coding complete? Click 'Check' to review your tests and earn cool rewards!\n"
     ]
    }
   ],
   "source": [
    "def checkio(*args):\n",
    "    mx = 0\n",
    "    mn = 0\n",
    "    for i, val in enumerate(args):\n",
    "        if i == 0:\n",
    "            mx = mn = args[0]\n",
    "        if val < mn:\n",
    "            mn = val\n",
    "        if val > mx:\n",
    "            mx = val\n",
    "    return mx - mn\n",
    "\n",
    "#These \"asserts\" using only for self-checking and not necessary for auto-testing\n",
    "if __name__ == '__main__':\n",
    "    def almost_equal(checked, correct, significant_digits):\n",
    "        precision = 0.1 ** significant_digits\n",
    "        return correct - precision < checked < correct + precision\n",
    "\n",
    "    assert almost_equal(checkio(1, 2, 3), 2, 3), \"3-1=2\"\n",
    "    assert almost_equal(checkio(5, -5), 10, 3), \"5-(-5)=10\"\n",
    "    assert almost_equal(checkio(10.2, -2.2, 0, 1.1, 0.5), 12.4, 3), \"10.2-(-2.2)=12.4\"\n",
    "    assert almost_equal(checkio(), 0, 3), \"Empty\"\n",
    "    print(\"Coding complete? Click 'Check' to review your tests and earn cool rewards!\")"
   ]
  },
  {
   "cell_type": "code",
   "execution_count": null,
   "metadata": {},
   "outputs": [],
   "source": []
  }
 ],
 "metadata": {
  "kernelspec": {
   "display_name": "Python 3",
   "language": "python",
   "name": "python3"
  },
  "language_info": {
   "codemirror_mode": {
    "name": "ipython",
    "version": 3
   },
   "file_extension": ".py",
   "mimetype": "text/x-python",
   "name": "python",
   "nbconvert_exporter": "python",
   "pygments_lexer": "ipython3",
   "version": "3.5.5"
  }
 },
 "nbformat": 4,
 "nbformat_minor": 2
}
