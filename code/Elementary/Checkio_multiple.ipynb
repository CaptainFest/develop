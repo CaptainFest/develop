{
 "cells": [
  {
   "cell_type": "code",
   "execution_count": null,
   "metadata": {},
   "outputs": [],
   "source": [
    "def checkio(number: int) -> int:\n",
    "    mult = 1\n",
    "    for i in range(len(str(number))):\n",
    "        m = number // (10 ** i) % 10\n",
    "        if m != 0:\n",
    "            mult *= m\n",
    "    return mult\n",
    "\n",
    "#These \"asserts\" using only for self-checking and not necessary for auto-testing\n",
    "if __name__ == '__main__':\n",
    "    assert checkio(123405) == 120\n",
    "    assert checkio(999) == 729\n",
    "    assert checkio(1000) == 1\n",
    "    assert checkio(1111) == 1\n",
    "    print(\"Coding complete? Click 'Check' to review your tests and earn cool rewards!\")"
   ]
  }
 ],
 "metadata": {
  "kernelspec": {
   "display_name": "Python 3",
   "language": "python",
   "name": "python3"
  },
  "language_info": {
   "codemirror_mode": {
    "name": "ipython",
    "version": 3
   },
   "file_extension": ".py",
   "mimetype": "text/x-python",
   "name": "python",
   "nbconvert_exporter": "python",
   "pygments_lexer": "ipython3",
   "version": "3.5.5"
  }
 },
 "nbformat": 4,
 "nbformat_minor": 2
}
