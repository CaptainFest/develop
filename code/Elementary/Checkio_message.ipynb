{
 "cells": [
  {
   "cell_type": "code",
   "execution_count": null,
   "metadata": {},
   "outputs": [],
   "source": [
    "def find_message(text: str) -> str:\n",
    "    \"\"\"Find a secret message\"\"\"\n",
    "    message = ''\n",
    "    for i in text:\n",
    "        if 'A' <= i <= 'Z':\n",
    "            message += i\n",
    "    return message\n",
    "\n",
    "if __name__ == '__main__':\n",
    "    #These \"asserts\" using only for self-checking and not necessary for auto-testing\n",
    "    assert find_message(\"How are you? Eh, ok. Low or Lower? Ohhh.\") == \"HELLO\", \"hello\"\n",
    "    assert find_message(\"hello world!\") == \"\", \"Nothing\"\n",
    "    assert find_message(\"HELLO WORLD!!!\") == \"HELLOWORLD\", \"Capitals\"\n",
    "    print(\"Coding complete? Click 'Check' to review your tests and earn cool rewards!\")\n"
   ]
  }
 ],
 "metadata": {
  "kernelspec": {
   "display_name": "Python 3",
   "language": "python",
   "name": "python3"
  },
  "language_info": {
   "codemirror_mode": {
    "name": "ipython",
    "version": 3
   },
   "file_extension": ".py",
   "mimetype": "text/x-python",
   "name": "python",
   "nbconvert_exporter": "python",
   "pygments_lexer": "ipython3",
   "version": "3.5.5"
  }
 },
 "nbformat": 4,
 "nbformat_minor": 2
}
