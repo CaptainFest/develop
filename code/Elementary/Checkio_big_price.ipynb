{
 "cells": [
  {
   "cell_type": "code",
   "execution_count": null,
   "metadata": {},
   "outputs": [],
   "source": [
    "def bigger_price(limit: int, data: list) -> list:\n",
    "    \"\"\"\n",
    "        TOP most expensive goods\n",
    "    \"\"\"\n",
    "    # your code here\n",
    "    \n",
    "    return None\n",
    "\n",
    "\n",
    "if __name__ == '__main__':\n",
    "    from pprint import pprint\n",
    "    print('Example:')\n",
    "    pprint(bigger_price(2, [\n",
    "        {\"name\": \"bread\", \"price\": 100},\n",
    "        {\"name\": \"wine\", \"price\": 138},\n",
    "        {\"name\": \"meat\", \"price\": 15},\n",
    "        {\"name\": \"water\", \"price\": 1}\n",
    "    ]))\n",
    "\n",
    "    # These \"asserts\" using for self-checking and not for auto-testing\n",
    "    assert bigger_price(2, [\n",
    "        {\"name\": \"bread\", \"price\": 100},\n",
    "        {\"name\": \"wine\", \"price\": 138},\n",
    "        {\"name\": \"meat\", \"price\": 15},\n",
    "        {\"name\": \"water\", \"price\": 1}\n",
    "    ]) == [\n",
    "        {\"name\": \"wine\", \"price\": 138},\n",
    "        {\"name\": \"bread\", \"price\": 100}\n",
    "    ], \"First\"\n",
    "\n",
    "    assert bigger_price(1, [\n",
    "        {\"name\": \"pen\", \"price\": 5},\n",
    "        {\"name\": \"whiteboard\", \"price\": 170}\n",
    "    ]) == [{\"name\": \"whiteboard\", \"price\": 170}], \"Second\"\n",
    "\n",
    "    print('Done! Looks like it is fine. Go and check it')\n"
   ]
  }
 ],
 "metadata": {
  "kernelspec": {
   "display_name": "Python 3",
   "language": "python",
   "name": "python3"
  },
  "language_info": {
   "codemirror_mode": {
    "name": "ipython",
    "version": 3
   },
   "file_extension": ".py",
   "mimetype": "text/x-python",
   "name": "python",
   "nbconvert_exporter": "python",
   "pygments_lexer": "ipython3",
   "version": "3.5.5"
  }
 },
 "nbformat": 4,
 "nbformat_minor": 2
}
