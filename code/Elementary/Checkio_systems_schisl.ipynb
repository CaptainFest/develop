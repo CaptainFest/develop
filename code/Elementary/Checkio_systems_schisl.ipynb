{
 "cells": [
  {
   "cell_type": "code",
   "execution_count": 35,
   "metadata": {},
   "outputs": [
    {
     "name": "stdout",
     "output_type": "stream",
     "text": [
      "Coding complete? Click 'Check' to review your tests and earn cool rewards!\n"
     ]
    }
   ],
   "source": [
    "def checkio(str_num: str, radix: int) -> int:\n",
    "    s = 0\n",
    "    i = len(str_num) - 1\n",
    "    for num in str_num:\n",
    "        if 'A' <= num <= 'Z':\n",
    "            if ord(num) - 55 >= radix:\n",
    "                return -1\n",
    "            s += (ord(num) - 55) * (radix**i)\n",
    "        else:\n",
    "            if int(num) >= radix:\n",
    "                return -1\n",
    "            s += int(num) * radix**i\n",
    "        i -= 1\n",
    "    return s\n",
    "\n",
    "#These \"asserts\" using only for self-checking and not necessary for auto-testing\n",
    "if __name__ == '__main__':\n",
    "    assert checkio(\"AF\", 16) == 175, \"Hex\"\n",
    "    assert checkio(\"101\", 2) == 5, \"Bin\"\n",
    "    assert checkio(\"101\", 5) == 26, \"5 base\"\n",
    "    assert checkio(\"Z\", 36) == 35, \"Z base\"\n",
    "    assert checkio(\"AB\", 10) == -1, \"B > A = 10\"\n",
    "    print(\"Coding complete? Click 'Check' to review your tests and earn cool rewards!\")"
   ]
  },
  {
   "cell_type": "code",
   "execution_count": null,
   "metadata": {},
   "outputs": [],
   "source": []
  },
  {
   "cell_type": "code",
   "execution_count": null,
   "metadata": {},
   "outputs": [],
   "source": []
  }
 ],
 "metadata": {
  "kernelspec": {
   "display_name": "Python 3",
   "language": "python",
   "name": "python3"
  },
  "language_info": {
   "codemirror_mode": {
    "name": "ipython",
    "version": 3
   },
   "file_extension": ".py",
   "mimetype": "text/x-python",
   "name": "python",
   "nbconvert_exporter": "python",
   "pygments_lexer": "ipython3",
   "version": "3.5.5"
  }
 },
 "nbformat": 4,
 "nbformat_minor": 2
}
