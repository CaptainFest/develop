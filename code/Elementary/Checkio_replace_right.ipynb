{
 "cells": [
  {
   "cell_type": "code",
   "execution_count": null,
   "metadata": {},
   "outputs": [],
   "source": [
    "def left_join(phrases):\n",
    "    \"\"\"\n",
    "        Join strings and replace \"right\" to \"left\"\n",
    "    \"\"\"\n",
    "    phrases = list(phrases)\n",
    "    for i, val in enumerate(phrases):\n",
    "        if 'right' in val:\n",
    "            print(1)\n",
    "            phrases[i] = phrases[i].replace('right', 'left')\n",
    "    return ','.join(phrases)\n",
    "\n",
    "if __name__ == '__main__':\n",
    "    #These \"asserts\" using only for self-checking and not necessary for auto-testing\n",
    "    assert left_join((\"left\", \"right\", \"left\", \"stop\")) == \"left,left,left,stop\", \"All to left\"\n",
    "    assert left_join((\"bright aright\", \"ok\")) == \"bleft aleft,ok\", \"Bright Left\"\n",
    "    assert left_join((\"brightness wright\",)) == \"bleftness wleft\", \"One phrase\"\n",
    "    assert left_join((\"enough\", \"jokes\")) == \"enough,jokes\", \"Nothing to replace\"\n",
    "    print(\"Coding complete? Click 'Check' to review your tests and earn cool rewards!\")"
   ]
  }
 ],
 "metadata": {
  "kernelspec": {
   "display_name": "Python 3",
   "language": "python",
   "name": "python3"
  },
  "language_info": {
   "codemirror_mode": {
    "name": "ipython",
    "version": 3
   },
   "file_extension": ".py",
   "mimetype": "text/x-python",
   "name": "python",
   "nbconvert_exporter": "python",
   "pygments_lexer": "ipython3",
   "version": "3.5.5"
  }
 },
 "nbformat": 4,
 "nbformat_minor": 2
}
