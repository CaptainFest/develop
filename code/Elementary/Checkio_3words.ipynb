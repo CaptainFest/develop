{
 "cells": [
  {
   "cell_type": "code",
   "execution_count": null,
   "metadata": {},
   "outputs": [],
   "source": [
    "def checkio(words: str) -> bool:\n",
    "    cnt = 0\n",
    "    for i in words.split():\n",
    "        if i.isalpha():\n",
    "            cnt += 1\n",
    "            if cnt == 3:\n",
    "                return True\n",
    "        else:\n",
    "            cnt = 0\n",
    "    return False\n",
    "\n",
    "#These \"asserts\" using only for self-checking and not necessary for auto-testing\n",
    "if __name__ == '__main__':\n",
    "    assert checkio(\"Hello World hello\") == True, \"Hello\"\n",
    "    assert checkio(\"He is 123 man\") == False, \"123 man\"\n",
    "    assert checkio(\"1 2 3 4\") == False, \"Digits\"\n",
    "    assert checkio(\"bla bla bla bla\") == True, \"Bla Bla\"\n",
    "    assert checkio(\"Hi\") == False, \"Hi\"\n",
    "    print(\"Coding complete? Click 'Check' to review your tests and earn cool rewards!\")\n"
   ]
  }
 ],
 "metadata": {
  "kernelspec": {
   "display_name": "Python 3",
   "language": "python",
   "name": "python3"
  },
  "language_info": {
   "codemirror_mode": {
    "name": "ipython",
    "version": 3
   },
   "file_extension": ".py",
   "mimetype": "text/x-python",
   "name": "python",
   "nbconvert_exporter": "python",
   "pygments_lexer": "ipython3",
   "version": "3.5.5"
  }
 },
 "nbformat": 4,
 "nbformat_minor": 2
}
