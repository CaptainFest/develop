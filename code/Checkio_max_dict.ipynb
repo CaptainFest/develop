{
 "cells": [
  {
   "cell_type": "code",
   "execution_count": 7,
   "metadata": {},
   "outputs": [
    {
     "name": "stdout",
     "output_type": "stream",
     "text": [
      "Example:\n",
      "WIG\n",
      "ATX\n",
      "CAC\n",
      "ATX\n",
      "WIG\n",
      "ATX\n",
      "CAC\n",
      "TASI\n",
      "ATX\n",
      "CAC\n",
      "Coding complete? Click 'Check' to earn cool rewards!\n"
     ]
    }
   ],
   "source": [
    "def best_stock(data):\n",
    "    if data is None:\n",
    "        return None\n",
    "    mx, k = 0, ''\n",
    "    for key in data:\n",
    "        if data[key] > mx:\n",
    "            mx = data[key]\n",
    "            k = key\n",
    "    return k\n",
    "\n",
    "\n",
    "if __name__ == '__main__':\n",
    "    print(\"Example:\")\n",
    "    print(best_stock({\n",
    "        'CAC': 10.0,\n",
    "        'ATX': 390.2,\n",
    "        'WIG': 1.2\n",
    "    }))\n",
    "\n",
    "    # These \"asserts\" are used for self-checking and not for an auto-testing\n",
    "    assert best_stock({\n",
    "        'CAC': 10.0,\n",
    "        'ATX': 390.2,\n",
    "        'WIG': 1.2\n",
    "    }) == 'ATX', \"First\"\n",
    "    assert best_stock({\n",
    "        'CAC': 91.1,\n",
    "        'ATX': 1.01,\n",
    "        'TASI': 120.9\n",
    "    }) == 'TASI', \"Second\"\n",
    "    print(\"Coding complete? Click 'Check' to earn cool rewards!\")\n"
   ]
  },
  {
   "cell_type": "code",
   "execution_count": null,
   "metadata": {},
   "outputs": [],
   "source": []
  }
 ],
 "metadata": {
  "kernelspec": {
   "display_name": "Python 3",
   "language": "python",
   "name": "python3"
  },
  "language_info": {
   "codemirror_mode": {
    "name": "ipython",
    "version": 3
   },
   "file_extension": ".py",
   "mimetype": "text/x-python",
   "name": "python",
   "nbconvert_exporter": "python",
   "pygments_lexer": "ipython3",
   "version": "3.5.5"
  }
 },
 "nbformat": 4,
 "nbformat_minor": 2
}
