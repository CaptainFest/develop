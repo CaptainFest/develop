{
 "cells": [
  {
   "cell_type": "code",
   "execution_count": 20,
   "metadata": {},
   "outputs": [
    {
     "name": "stdout",
     "output_type": "stream",
     "text": [
      "Done! Go Check it!\n"
     ]
    }
   ],
   "source": [
    "def del_povtor(subj):\n",
    "    r = [None]\n",
    "    for c in subj:\n",
    "        if c != r[-1]: r.append(c)\n",
    "    return ''.join(r[1:])\n",
    "\n",
    "def del_special_symb(subj, symbols):\n",
    "    for symb in symbols:\n",
    "        if symb in subj:\n",
    "            subj = subj.replace(symb,'')\n",
    "    return subj\n",
    "\n",
    "def is_stressful(subj):\n",
    "    \"\"\"\n",
    "        recoognise stressful subject\n",
    "    \"\"\"\n",
    "    if subj[len(subj)-4:len(subj)-1] == '!!!' or subj.isupper():\n",
    "        return True\n",
    "    \n",
    "    subj = del_special_symb(subj, '\\/:*?\"<>|!,.-')\n",
    "    \n",
    "    sub = del_povtor(subj)\n",
    "    black_list = ['help', 'asap', 'urgent']\n",
    "    for b in black_list:\n",
    "        if b in sub.lower():\n",
    "            return True\n",
    "    return False\n",
    "\n",
    "if __name__ == '__main__':\n",
    "    #These \"asserts\" using only for self-checking and not necessary for auto-testing\n",
    "    assert is_stressful(\"Hi\") == False, \"First\"\n",
    "    assert is_stressful(\"I neeed HELP\") == True, \"Second\"\n",
    "    assert is_stressful('h!e!l!p') == True, \"Trird\"\n",
    "    assert is_stressful(\"UUUURGGGEEEEENT here\"), 'asd'\n",
    "    assert is_stressful(\"asap help\"), 'as'\n",
    "    assert is_stressful(\"U-R-G-E-N-T issue\"), 'asada'\n",
    "    print('Done! Go Check it!')"
   ]
  },
  {
   "cell_type": "code",
   "execution_count": 14,
   "metadata": {},
   "outputs": [
    {
     "name": "stdout",
     "output_type": "stream",
     "text": [
      "abacd\n"
     ]
    }
   ],
   "source": [
    "s_in = 'aaaabbbaccccdd'\n",
    "r = [None]\n",
    "for c in s_in:\n",
    "    if c != r[-1]: r.append(c)\n",
    "s_out = ''.join(r[1:])\n",
    "print(s_out)"
   ]
  },
  {
   "cell_type": "code",
   "execution_count": null,
   "metadata": {},
   "outputs": [],
   "source": []
  }
 ],
 "metadata": {
  "kernelspec": {
   "display_name": "Python 3",
   "language": "python",
   "name": "python3"
  },
  "language_info": {
   "codemirror_mode": {
    "name": "ipython",
    "version": 3
   },
   "file_extension": ".py",
   "mimetype": "text/x-python",
   "name": "python",
   "nbconvert_exporter": "python",
   "pygments_lexer": "ipython3",
   "version": "3.5.5"
  }
 },
 "nbformat": 4,
 "nbformat_minor": 2
}
