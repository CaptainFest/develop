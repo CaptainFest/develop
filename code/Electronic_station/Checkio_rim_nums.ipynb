{
 "cells": [
  {
   "cell_type": "code",
   "execution_count": 26,
   "metadata": {},
   "outputs": [
    {
     "name": "stdout",
     "output_type": "stream",
     "text": [
      "Done! Go Check!\n"
     ]
    }
   ],
   "source": [
    "def checkio(data):\n",
    "    num = ('I', 'V', 'X', 'L', 'C', 'D', 'M')                     # 1 =  'I', 5 = 'V'\n",
    "    rim_num = ''                                                  # 10 = 'X', 50= 'L'\n",
    "    for i in range(len(str(data))):                               # 100 ='C', 500='D' \n",
    "        cifra = data // (10 ** i) % 10                            # 1000='M'\n",
    "        if cifra != 0:\n",
    "            if cifra < 4:\n",
    "                rim_num = cifra * num[i*2] + rim_num\n",
    "            if cifra == 4:\n",
    "                rim_num = (num[i*2] + num[i*2+1]) + rim_num\n",
    "            if cifra == 5:\n",
    "                rim_num = num[i*2+1] + rim_num\n",
    "            if 5 < cifra < 9:\n",
    "                rim_num = (num[i*2+1] + (cifra - 5) * num[2*i]) + rim_num\n",
    "            if cifra == 9:\n",
    "                rim_num = (num[i*2] + num[i*2+2]) + rim_num\n",
    "    return rim_num\n",
    "\n",
    "if __name__ == '__main__':\n",
    "    #These \"asserts\" using only for self-checking and not necessary for auto-testing\n",
    "    assert checkio(6) == 'VI', '6'\n",
    "    assert checkio(76) == 'LXXVI', '76'\n",
    "    assert checkio(499) == 'CDXCIX', '499'\n",
    "    assert checkio(3888) == 'MMMDCCCLXXXVIII', '3888'\n",
    "    print('Done! Go Check!')"
   ]
  },
  {
   "cell_type": "code",
   "execution_count": null,
   "metadata": {},
   "outputs": [],
   "source": []
  }
 ],
 "metadata": {
  "kernelspec": {
   "display_name": "Python 3",
   "language": "python",
   "name": "python3"
  },
  "language_info": {
   "codemirror_mode": {
    "name": "ipython",
    "version": 3
   },
   "file_extension": ".py",
   "mimetype": "text/x-python",
   "name": "python",
   "nbconvert_exporter": "python",
   "pygments_lexer": "ipython3",
   "version": "3.5.5"
  }
 },
 "nbformat": 4,
 "nbformat_minor": 2
}
