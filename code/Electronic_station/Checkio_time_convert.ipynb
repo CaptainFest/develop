{
 "cells": [
  {
   "cell_type": "code",
   "execution_count": 11,
   "metadata": {},
   "outputs": [
    {
     "name": "stdout",
     "output_type": "stream",
     "text": [
      "Example:\n",
      "09:00 a.m.\n",
      "09:00\n",
      "12:30 p.m.\n",
      "09:00 a.m.\n",
      "23:15 p.m.\n",
      "Coding complete? Click 'Check' to earn cool rewards!\n"
     ]
    }
   ],
   "source": [
    "def time_converter(time):\n",
    "    t = ''\n",
    "    if time is None:\n",
    "        return\n",
    "    if time[1] == ':':\n",
    "        time = '0' + time\n",
    "    for i in time:\n",
    "            if i != ' ':\n",
    "                t += i\n",
    "    if 'p' in time and time[:2] != '12':\n",
    "        time = time.replace(time[:2], str(int(time[:2]) + 12))\n",
    "    if 'a' in time and time[:2] == '12':\n",
    "        time = time.replace(time[:2], '00')\n",
    "    print(time)\n",
    "    return time[:5]\n",
    "\n",
    "if __name__ == '__main__':\n",
    "    print(\"Example:\")\n",
    "    print(time_converter('9:00 a.m.'))\n",
    "\n",
    "    #These \"asserts\" using only for self-checking and not necessary for auto-testing\n",
    "    assert time_converter('12:30 p.m.') == '12:30'\n",
    "    assert time_converter('9:00 a.m.') == '09:00'\n",
    "    assert time_converter('11:15 p.m.') == '23:15'\n",
    "    print(\"Coding complete? Click 'Check' to earn cool rewards!\")"
   ]
  },
  {
   "cell_type": "code",
   "execution_count": null,
   "metadata": {},
   "outputs": [],
   "source": []
  }
 ],
 "metadata": {
  "kernelspec": {
   "display_name": "Python 3",
   "language": "python",
   "name": "python3"
  },
  "language_info": {
   "codemirror_mode": {
    "name": "ipython",
    "version": 3
   },
   "file_extension": ".py",
   "mimetype": "text/x-python",
   "name": "python",
   "nbconvert_exporter": "python",
   "pygments_lexer": "ipython3",
   "version": "3.5.5"
  }
 },
 "nbformat": 4,
 "nbformat_minor": 2
}
