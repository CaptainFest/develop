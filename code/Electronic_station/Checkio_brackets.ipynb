{
 "cells": [
  {
   "cell_type": "code",
   "execution_count": 21,
   "metadata": {},
   "outputs": [],
   "source": [
    "def checkio(expr):\n",
    "    stack = []\n",
    "    for i in expr:\n",
    "        if i in '{([':\n",
    "            stack.append(i)\n",
    "        if stack:\n",
    "            if i in '})]':\n",
    "                if stack[-1] + i not in '() [] {}':   # if brackets are not same\n",
    "                    return False\n",
    "                else:\n",
    "                    stack.pop()\n",
    "        else:\n",
    "            if i in '})]':          # stack is empty, but 'i' is closing parenthesis\n",
    "                return False\n",
    "    return (not stack)              # in the end stack empty means all brackets correct\n",
    "\n",
    "\n",
    "#These \"asserts\" using only for self-checking and not necessary for auto-testing\n",
    "\n",
    "if __name__ == '__main__':\n",
    "    assert checkio(\"((5+3)*2+1)\") == True, \"Simple\"\n",
    "    assert checkio(\"{[(3+1)+2]+}\") == True, \"Different types\"\n",
    "    assert checkio(\"(3+{1-1)}\") == False, \") is alone inside {}\"\n",
    "    assert checkio(\"[1+1]+(2*2)-{3/3}\") == True, \"Different operators\"\n",
    "    assert checkio(\"(({[(((1)-2)+3)-3]/3}-3)\") == False, \"One is redundant\"\n",
    "    assert checkio(\"2+3\") == True, \"No brackets, no problem\""
   ]
  },
  {
   "cell_type": "code",
   "execution_count": null,
   "metadata": {},
   "outputs": [],
   "source": []
  }
 ],
 "metadata": {
  "kernelspec": {
   "display_name": "Python 3",
   "language": "python",
   "name": "python3"
  },
  "language_info": {
   "codemirror_mode": {
    "name": "ipython",
    "version": 3
   },
   "file_extension": ".py",
   "mimetype": "text/x-python",
   "name": "python",
   "nbconvert_exporter": "python",
   "pygments_lexer": "ipython3",
   "version": "3.5.5"
  }
 },
 "nbformat": 4,
 "nbformat_minor": 2
}
