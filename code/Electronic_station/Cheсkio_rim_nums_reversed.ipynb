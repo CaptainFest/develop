{
 "cells": [
  {
   "cell_type": "code",
   "execution_count": 20,
   "metadata": {},
   "outputs": [
    {
     "name": "stdout",
     "output_type": "stream",
     "text": [
      "Great! It is time to Check your code!\n"
     ]
    }
   ],
   "source": [
    "def reverse_roman(roman_str):\n",
    "    num = 0\n",
    "    rim_dict = {'M': 1000, 'CM':900, 'D':500, 'CD':400, 'C':100, 'XC':90, \n",
    "                'L': 50, 'XL':40, 'X':10, 'IX':9, 'V':5, 'IV':4, 'I':1}\n",
    "    for i, val in enumerate(roman_str):\n",
    "        if i+1 < len(roman_str):\n",
    "            if val + roman_str[i+1] in rim_dict:\n",
    "                continue\n",
    "        if i-1>=0:\n",
    "            if roman_str[i-1] + val in rim_dict:\n",
    "                num += rim_dict[roman_str[i-1]+val]\n",
    "                continue\n",
    "        num += rim_dict[val]\n",
    "    return num\n",
    "\n",
    "if __name__ == '__main__':\n",
    "    #These \"asserts\" using only for self-checking and not necessary for auto-testing\n",
    "    assert reverse_roman('VI') == 6, '6'\n",
    "    assert reverse_roman('LXXVI') == 76, '76'\n",
    "    assert reverse_roman('CDXCIX') == 499, '499'\n",
    "    assert reverse_roman('MMMDCCCLXXXVIII') == 3888, '3888'\n",
    "    print('Great! It is time to Check your code!');"
   ]
  },
  {
   "cell_type": "code",
   "execution_count": 23,
   "metadata": {},
   "outputs": [
    {
     "data": {
      "text/plain": [
       "0.25"
      ]
     },
     "execution_count": 23,
     "metadata": {},
     "output_type": "execute_result"
    }
   ],
   "source": [
    "import math\n",
    "math.log(20,225)*math.log(15,289)*math.log(17,20)"
   ]
  },
  {
   "cell_type": "code",
   "execution_count": null,
   "metadata": {},
   "outputs": [],
   "source": []
  }
 ],
 "metadata": {
  "kernelspec": {
   "display_name": "Python 3",
   "language": "python",
   "name": "python3"
  },
  "language_info": {
   "codemirror_mode": {
    "name": "ipython",
    "version": 3
   },
   "file_extension": ".py",
   "mimetype": "text/x-python",
   "name": "python",
   "nbconvert_exporter": "python",
   "pygments_lexer": "ipython3",
   "version": "3.5.5"
  }
 },
 "nbformat": 4,
 "nbformat_minor": 2
}
