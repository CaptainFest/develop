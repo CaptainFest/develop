{
 "cells": [
  {
   "cell_type": "code",
   "execution_count": 4,
   "metadata": {},
   "outputs": [
    {
     "name": "stdout",
     "output_type": "stream",
     "text": [
      "[-5, 10, 15, -20]\n",
      "[0, 1, 2, 3]\n",
      "[0, -1, -2, -3]\n",
      "Coding complete? Click 'Check' to review your tests and earn cool rewards!\n"
     ]
    }
   ],
   "source": [
    "def checkio(a: tuple) -> list:\n",
    "    temp = 0\n",
    "    b = list(a)\n",
    "    for i in range(len(b)):\n",
    "        for j in range(i, 0, -1):\n",
    "            if abs(b[j]) < abs(b[j-1]):\n",
    "                temp = b[j]\n",
    "                b[j] = b[j-1]\n",
    "                b[j-1] = temp\n",
    "    print(b)\n",
    "    return b\n",
    "\n",
    "#These \"asserts\" using only for self-checking and not necessary for auto-testing\n",
    "if __name__ == '__main__':\n",
    "    def check_it(array):\n",
    "        if not isinstance(array, (list, tuple)):\n",
    "            raise TypeError(\"The result should be a list or tuple.\")\n",
    "        return list(array)\n",
    "\n",
    "    assert check_it(checkio((-20, -5, 10, 15))) == [-5, 10, 15, -20], \"Example\"  # or (-5, 10, 15, -20)\n",
    "    assert check_it(checkio((1, 2, 3, 0))) == [0, 1, 2, 3], \"Positive numbers\"\n",
    "    assert check_it(checkio((-1, -2, -3, 0))) == [0, -1, -2, -3], \"Negative numbers\"\n",
    "    print(\"Coding complete? Click 'Check' to review your tests and earn cool rewards!\")"
   ]
  },
  {
   "cell_type": "code",
   "execution_count": null,
   "metadata": {},
   "outputs": [],
   "source": []
  }
 ],
 "metadata": {
  "kernelspec": {
   "display_name": "Python 3",
   "language": "python",
   "name": "python3"
  },
  "language_info": {
   "codemirror_mode": {
    "name": "ipython",
    "version": 3
   },
   "file_extension": ".py",
   "mimetype": "text/x-python",
   "name": "python",
   "nbconvert_exporter": "python",
   "pygments_lexer": "ipython3",
   "version": "3.5.5"
  }
 },
 "nbformat": 4,
 "nbformat_minor": 2
}
