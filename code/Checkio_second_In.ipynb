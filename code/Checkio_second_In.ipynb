{
 "cells": [
  {
   "cell_type": "code",
   "execution_count": 12,
   "metadata": {},
   "outputs": [
    {
     "name": "stdout",
     "output_type": "stream",
     "text": [
      "Example:\n",
      "12\n",
      "None\n",
      "None\n",
      "5\n",
      "You are awesome! All tests are done! Go Check it!\n"
     ]
    }
   ],
   "source": [
    "def second_index(text: str, symb: str) -> [int, None]:\n",
    "    \"\"\"\n",
    "        returns the second index of a symbol in a given text\n",
    "    \"\"\"\n",
    "    # your code here\n",
    "    i, flag = None, False\n",
    "    if symb in text:\n",
    "        cnt = 0\n",
    "        for j in text:\n",
    "            if j == symb:\n",
    "                if flag:\n",
    "                    i = cnt\n",
    "                    break\n",
    "                flag = True\n",
    "            cnt += 1\n",
    "    return i\n",
    "\n",
    "\n",
    "if __name__ == '__main__':\n",
    "    print('Example:')\n",
    "    #print(second_index(\"sims\", \"s\"))\n",
    "\n",
    "    # These \"asserts\" are used for self-checking and not for an auto-testing\n",
    "    #assert second_index(\"sims\", \"s\") == 3, \"First\"\n",
    "    assert second_index(\"find the river\", \"e\") == 12, \"Second\"\n",
    "    assert second_index(\"hi\", \" \") is None, \"Third\"\n",
    "    assert second_index(\"hi mayor\", \" \") is None, \"Fourth\"\n",
    "    assert second_index(\"hi mr Mayor\", \" \") == 5, \"Fifth\"\n",
    "    print('You are awesome! All tests are done! Go Check it!')"
   ]
  },
  {
   "cell_type": "code",
   "execution_count": null,
   "metadata": {},
   "outputs": [],
   "source": []
  }
 ],
 "metadata": {
  "kernelspec": {
   "display_name": "Python 3",
   "language": "python",
   "name": "python3"
  },
  "language_info": {
   "codemirror_mode": {
    "name": "ipython",
    "version": 3
   },
   "file_extension": ".py",
   "mimetype": "text/x-python",
   "name": "python",
   "nbconvert_exporter": "python",
   "pygments_lexer": "ipython3",
   "version": "3.5.5"
  }
 },
 "nbformat": 4,
 "nbformat_minor": 2
}
