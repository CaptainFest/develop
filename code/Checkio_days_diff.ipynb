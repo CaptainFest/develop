{
 "cells": [
  {
   "cell_type": "code",
   "execution_count": 5,
   "metadata": {},
   "outputs": [],
   "source": [
    "import datetime\n",
    "\n",
    "def days_diff(date1, date2):\n",
    "    d1 = datetime.datetime(date1[0], date1[1], date1[2])\n",
    "    d2 = datetime.datetime(date2[0], date2[1], date2[2])\n",
    "    return abs((d2 - d1).days)\n",
    "\n",
    "if __name__ == '__main__':\n",
    "    #These \"asserts\" using only for self-checking and not necessary for auto-testing\n",
    "    assert days_diff((1982, 4, 19), (1982, 4, 22)) == 3\n",
    "    assert days_diff((2014, 1, 1), (2014, 8, 27)) == 238\n",
    "    assert days_diff((2014, 8, 27), (2014, 1, 1)) == 238\n"
   ]
  },
  {
   "cell_type": "code",
   "execution_count": null,
   "metadata": {},
   "outputs": [],
   "source": []
  }
 ],
 "metadata": {
  "kernelspec": {
   "display_name": "Python 3",
   "language": "python",
   "name": "python3"
  },
  "language_info": {
   "codemirror_mode": {
    "name": "ipython",
    "version": 3
   },
   "file_extension": ".py",
   "mimetype": "text/x-python",
   "name": "python",
   "nbconvert_exporter": "python",
   "pygments_lexer": "ipython3",
   "version": "3.5.5"
  }
 },
 "nbformat": 4,
 "nbformat_minor": 2
}
