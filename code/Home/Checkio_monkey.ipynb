{
 "cells": [
  {
   "cell_type": "code",
   "execution_count": 1,
   "metadata": {},
   "outputs": [
    {
     "name": "stdout",
     "output_type": "stream",
     "text": [
      "Coding complete? Click 'Check' to review your tests and earn cool rewards!\n"
     ]
    }
   ],
   "source": [
    "def count_words(text: str, words: set) -> int:\n",
    "    cnt = 0\n",
    "    for i in words:\n",
    "        if i in text.lower():\n",
    "            cnt += 1\n",
    "    return cnt\n",
    "\n",
    "\n",
    "if __name__ == '__main__':\n",
    "    #These \"asserts\" using only for self-checking and not necessary for auto-testing\n",
    "    assert count_words(\"How aresjfhdskfhskd you?\", {\"how\", \"are\", \"you\", \"hello\"}) == 3, \"Example\"\n",
    "    assert count_words(\"Bananas, give me bananas!!!\", {\"banana\", \"bananas\"}) == 2, \"BANANAS!\"\n",
    "    assert count_words(\"Lorem ipsum dolor sit amet, consectetuer adipiscing elit.\",\n",
    "                       {\"sum\", \"hamlet\", \"infinity\", \"anything\"}) == 1, \"Weird text\"\n",
    "    print(\"Coding complete? Click 'Check' to review your tests and earn cool rewards!\")"
   ]
  },
  {
   "cell_type": "code",
   "execution_count": null,
   "metadata": {},
   "outputs": [],
   "source": []
  }
 ],
 "metadata": {
  "kernelspec": {
   "display_name": "Python 3",
   "language": "python",
   "name": "python3"
  },
  "language_info": {
   "codemirror_mode": {
    "name": "ipython",
    "version": 3
   },
   "file_extension": ".py",
   "mimetype": "text/x-python",
   "name": "python",
   "nbconvert_exporter": "python",
   "pygments_lexer": "ipython3",
   "version": "3.5.5"
  }
 },
 "nbformat": 4,
 "nbformat_minor": 2
}
