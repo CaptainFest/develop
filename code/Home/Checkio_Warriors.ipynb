{
 "cells": [
  {
   "cell_type": "code",
   "execution_count": 4,
   "metadata": {},
   "outputs": [
    {
     "name": "stdout",
     "output_type": "stream",
     "text": [
      "Coding complete? Let's try tests!\n"
     ]
    }
   ],
   "source": [
    "class Fighter:\n",
    "    def __init__(self, attack=5, health=50):\n",
    "        \n",
    "        self.attack = attack\n",
    "        self.health = health\n",
    "    \n",
    "    @property\n",
    "    def is_alive(self):\n",
    "        return self.health >= 0\n",
    "\n",
    "\n",
    "\n",
    "class Warrior(Fighter):\n",
    "    \n",
    "    def __init__(self, attack = 5, health = 50):\n",
    "    \n",
    "        super().__init__(attack, health)\n",
    "        \n",
    "\n",
    "class Knight(Fighter):\n",
    "    \n",
    "    def __init__(self, attack = 7, health = 50):\n",
    "        \n",
    "        super().__init__(attack, health)\n",
    "        \n",
    "\n",
    "def fight(unit_1, unit_2):\n",
    "    while(unit_1.is_alive and unit_2.is_alive):\n",
    "        unit_2.health -= unit_1.attack\n",
    "        if unit_2.is_alive: \n",
    "            unit_1.health -= unit_2.attack\n",
    "    return unit_1.is_alive\n",
    "\n",
    "if __name__ == '__main__':\n",
    "    #These \"asserts\" using only for self-checking and not necessary for auto-testing\n",
    "\n",
    "    chuck = Warrior()\n",
    "    bruce = Warrior()\n",
    "    carl = Knight()\n",
    "    dave = Warrior()\n",
    "    mark = Warrior()\n",
    "    \n",
    "    assert fight(chuck, bruce) == True\n",
    "    assert fight(dave, carl) == False\n",
    "    assert chuck.is_alive == True\n",
    "    assert bruce.is_alive == False\n",
    "    assert carl.is_alive == True\n",
    "    assert dave.is_alive == False\n",
    "    assert fight(carl, mark) == False\n",
    "    assert carl.is_alive == False\n",
    "\n",
    "    print(\"Coding complete? Let's try tests!\")"
   ]
  },
  {
   "cell_type": "code",
   "execution_count": null,
   "metadata": {},
   "outputs": [],
   "source": []
  }
 ],
 "metadata": {
  "kernelspec": {
   "display_name": "Python 3",
   "language": "python",
   "name": "python3"
  }
 },
 "nbformat": 4,
 "nbformat_minor": 2
}
