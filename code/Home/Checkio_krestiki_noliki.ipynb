{
 "cells": [
  {
   "cell_type": "code",
   "execution_count": 10,
   "metadata": {},
   "outputs": [
    {
     "name": "stdout",
     "output_type": "stream",
     "text": [
      "Example:\n",
      "Coding complete? Click 'Check' to review your tests and earn cool rewards!\n"
     ]
    }
   ],
   "source": [
    "from typing import List\n",
    "\n",
    "def checkio(game_result: List[str]) -> str:\n",
    "    for i in range(3):\n",
    "        if game_result[i] == \"XXX\" or game_result[0][i]+game_result[1][i]+game_result[2][i] == \"XXX\":\n",
    "            return \"X\"\n",
    "        if game_result[i] == \"OOO\" or game_result[0][i]+game_result[1][i]+game_result[2][i] == \"OOO\" :\n",
    "            return \"O\" \n",
    "    if game_result[0][0]+game_result[1][1]+game_result[2][2] == \"XXX\":\n",
    "        return \"X\"\n",
    "    if game_result[0][2]+game_result[1][1]+game_result[2][0] == \"XXX\":\n",
    "        return \"X\"\n",
    "    if game_result[0][0]+game_result[1][1]+game_result[2][2] == \"OOO\":\n",
    "        return \"O\"\n",
    "    if game_result[0][2]+game_result[1][1]+game_result[2][2] == \"OOO\":\n",
    "        return \"O\"\n",
    "    return \"D\" \n",
    "\n",
    "if __name__ == '__main__':\n",
    "    print(\"Example:\")\n",
    "    #print(checkio([\"X.O\",\n",
    "    #               \"XX.\",\n",
    "    #               \"XOO\"]))\n",
    "\n",
    "    #These \"asserts\" using only for self-checking and not necessary for auto-testing\n",
    "    assert checkio([\n",
    "        \"X.O\",\n",
    "        \"XX.\",\n",
    "        \"XOO\"]) == \"X\", \"Xs wins\"\n",
    "    assert checkio([\n",
    "        \"OO.\",\n",
    "        \"XOX\",\n",
    "        \"XOX\"]) == \"O\", \"Os wins\"\n",
    "    assert checkio([\n",
    "        \"OOX\",\n",
    "        \"XXO\",\n",
    "        \"OXX\"]) == \"D\", \"Draw\"\n",
    "    assert checkio([\n",
    "        \"O.X\",\n",
    "        \"XX.\",\n",
    "        \"XOO\"]) == \"X\", \"Xs wins again\"\n",
    "    print(\"Coding complete? Click 'Check' to review your tests and earn cool rewards!\")"
   ]
  },
  {
   "cell_type": "code",
   "execution_count": null,
   "metadata": {},
   "outputs": [],
   "source": []
  }
 ],
 "metadata": {
  "kernelspec": {
   "display_name": "Python 3",
   "language": "python",
   "name": "python3"
  },
  "language_info": {
   "codemirror_mode": {
    "name": "ipython",
    "version": 3
   },
   "file_extension": ".py",
   "mimetype": "text/x-python",
   "name": "python",
   "nbconvert_exporter": "python",
   "pygments_lexer": "ipython3",
   "version": "3.5.5"
  }
 },
 "nbformat": 4,
 "nbformat_minor": 2
}
